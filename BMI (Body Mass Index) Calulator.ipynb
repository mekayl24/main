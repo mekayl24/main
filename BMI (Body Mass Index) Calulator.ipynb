{
 "cells": [
  {
   "cell_type": "code",
   "execution_count": 1,
   "metadata": {},
   "outputs": [
    {
     "name": "stdout",
     "output_type": "stream",
     "text": [
      "Please enter your weight in pounds: 160\n",
      "Please enter your height in inches: 72\n",
      "Your BMI is 22.22222222222222\n",
      "You are healthy!\n"
     ]
    }
   ],
   "source": [
    "def bmi():\n",
    "    weight = float(input(\"Please enter your weight in pounds: \"))\n",
    "    height = float(input(\"Please enter your height in inches: \"))\n",
    "    bmi = (weight*720) / (height)**2\n",
    "    print(\"Your BMI is\", bmi)\n",
    "    if bmi < 19:\n",
    "        print(\"According to the score, you are classified as underweight\")\n",
    "        \n",
    "    if bmi > 25:\n",
    "        print(\"according to the score, you are classifed  as overweight\")\n",
    "    else:\n",
    "        print(\"You are healthy!\")\n",
    "    \n",
    "bmi()\n"
   ]
  }
 ],
 "metadata": {
  "kernelspec": {
   "display_name": "Python 3",
   "language": "python",
   "name": "python3"
  },
  "language_info": {
   "codemirror_mode": {
    "name": "ipython",
    "version": 3
   },
   "file_extension": ".py",
   "mimetype": "text/x-python",
   "name": "python",
   "nbconvert_exporter": "python",
   "pygments_lexer": "ipython3",
   "version": "3.6.5"
  }
 },
 "nbformat": 4,
 "nbformat_minor": 2
}
